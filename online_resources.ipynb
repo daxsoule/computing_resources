{
 "cells": [
  {
   "cell_type": "markdown",
   "metadata": {},
   "source": [
    "# Unix\n",
    "https://en.wikipedia.org/wiki/Unix\n",
    "\n",
    "https://people.ischool.berkeley.edu/~kevin/unix-tutorial/toc.html\n",
    "\n",
    "https://linuxjourney.com/lesson/the-shell\n",
    "\n",
    "https://linuxjourney.com/lesson/stdout-standard-out-redirect\n",
    "\n",
    "https://linuxjourney.com/lesson/regular-expressions-regex\n",
    "\n",
    "http://www.atmos.albany.edu/daes/atmclasses/atm350/vi_cheat_sheet.pdf\n",
    "\n",
    "http://cheatsheetworld.com/programming/unix-linux-cheat-sheet/\n",
    "\n",
    "https://www.bowdoin.edu/~sbarker/unix/"
   ]
  },
  {
   "cell_type": "markdown",
   "metadata": {},
   "source": [
    "# Scientific Computing\n",
    "### &emsp;&emsp; - Ryan Abernathy (Lamont)and Matthew Rocklin (Anaconda) \n",
    "https://youtu.be/mDrjGxaXQT4\n",
    "\n",
    "# Python\n",
    "## Jupyter\n",
    "https://jupyter.org\n",
    "https://zero-to-jupyterhub.readthedocs.io/en/latest/\n",
    "\n",
    "## Google Colab\n",
    "https://colab.research.google.com/notebooks/welcome.ipynb\n",
    "\n",
    "## Binders\n",
    "https://mybinder.readthedocs.io/en/latest/faq.html\n",
    "https://mybinder.org\n",
    "\n",
    "## Visualization Tools\n",
    "### pyvis\n",
    "https://pydata.org/\n",
    "https://hvplot.pyviz.org/user_guide/Introduction.html\n",
    "https://hvplot.pyviz.org/user_guide/Plotting.html\n",
    "https://hvplot.pyviz.org/user_guide/Subplots.html"
   ]
  },
  {
   "cell_type": "markdown",
   "metadata": {},
   "source": [
    "# GitHub\n",
    "https://github.com/daxsoule\n",
    "\n",
    "https://github.com/jakevdp\n",
    "\n",
    "https://github.com/rabernat\n",
    "\n",
    "https://github.com/jsignell\n",
    "\n",
    "https://github.com/tjcrone\n",
    "\n",
    "https://github.com/robfatland"
   ]
  },
  {
   "cell_type": "markdown",
   "metadata": {},
   "source": [
    "# OOI Sites\n",
    "https://app.interactiveoceans.washington.edu"
   ]
  },
  {
   "cell_type": "markdown",
   "metadata": {},
   "source": [
    "# Funding Opportunity\n",
    "https://azure.microsoft.com/en-us/\n",
    "\n",
    "https://www.microsoft.com/en-us/ai/ai-for-earth?activetab=pivot1%3aprimaryr6"
   ]
  },
  {
   "cell_type": "markdown",
   "metadata": {},
   "source": [
    "# Seismic- OBSPy\n",
    "https://github.com/obspy/obspy/wiki\n",
    "### For this example we are examining an Earthquade as recorded on a Seismic Station in Peru\n",
    "### &emsp; -Steps 1-3 = Load and plot some seismic data "
   ]
  },
  {
   "cell_type": "code",
   "execution_count": null,
   "metadata": {},
   "outputs": [],
   "source": [
    "import matplotlib.pyplot as plt\n",
    "import matplotlib\n",
    "import numpy as np\n",
    "import copy\n",
    "import pickle as pk\n",
    "import pandas as pd\n",
    "import hvplot.pandas\n",
    "import xarray as xr\n",
    "from datetime import datetime\n",
    "from obspy import UTCDateTime\n",
    "import sys"
   ]
  },
  {
   "cell_type": "code",
   "execution_count": null,
   "metadata": {},
   "outputs": [],
   "source": [
    "# Identfy IRIS as the client and give obspy a web address to query.\n",
    "from obspy.clients.fdsn import Client\n",
    "\n",
    "client_name='IRIS'\n",
    "client_name='http://service.iris.edu'\n",
    "\n",
    "client=Client(client_name)\n",
    "\n",
    "print(client)\n",
    "\n",
    "# List Of Pre-Registered webservices\n",
    "\n",
    "from obspy.clients.fdsn.header import URL_MAPPINGS\n",
    "\n",
    "# for key in sorted(URL_MAPPINGS.keys()):\n",
    "#     print(\"{0:<7} {1}\".format(key,  URL_MAPPINGS[key]))\n",
    "\n",
    "# Tell IRIS the \"where\" and \"when\" it needs to find the data we are interested in.\n",
    "### In this example we are going to look at an earthquake from 1999 as seen at the seismic station in Nana Peru\n",
    "### Parameters\n",
    "net_code='II'\n",
    "# net_code='NV,OO'\n",
    "\n",
    "starttime = UTCDateTime(\"1999-09-30\")\n",
    "endtime = UTCDateTime(\"1999-10-01\")\n",
    "\n",
    "### Read network data   \n",
    "inventory = client.get_stations(network=net_code, station=\"NNA\",\n",
    "                                starttime=starttime,\n",
    "                                endtime=endtime)\n",
    "\n",
    "#print(inventory)\n",
    "\n",
    "# Ask for all the \"Z\" channels \n",
    "inventory_select = inventory.select(channel=\"*Z\", station=\"NNA\")\n",
    "\n",
    "#print(inventory_select)\n",
    "\n",
    "# Load some waveforms\n",
    "starttime = UTCDateTime(\"1999-09-30T16:35:00\")\n",
    "duration = 1800\n",
    "\n",
    "st = client.get_waveforms(network='II',station='NNA',location=\"*\",channel='B*Z',\n",
    "                                starttime=starttime,\n",
    "                                endtime=starttime+duration)\n",
    "\n",
    "#print(type(st))\n",
    "#print(st)\n",
    "#print(st.print_gaps())\n",
    "\n",
    "st.plot()"
   ]
  },
  {
   "cell_type": "code",
   "execution_count": null,
   "metadata": {},
   "outputs": [],
   "source": [
    "starttime = UTCDateTime(\"1999-09-30T16:35:00\")\n",
    "duration = 1800\n",
    "\n",
    "st = client.get_waveforms(network='II',station='NNA',location=\"*\",channel='B*Z',\n",
    "                                starttime=starttime,\n",
    "                                endtime=starttime+duration)\n",
    "\n",
    "st.merge()\n",
    "trace=st[0]\n",
    "\n",
    "trace_filter=copy.copy(trace)\n",
    "trace_filter.filter('bandpass', freqmin=1.0, freqmax=8.0,corners=3, zerophase=True)\n",
    "trace_filter.plot()\n",
    "\n",
    "trace_filter=copy.copy(trace)\n",
    "trace_filter.filter('highpass', freq=8.0, corners=2, zerophase=True)\n",
    "trace_filter.plot()\n",
    "\n",
    "trace_filter=copy.copy(trace)\n",
    "trace_filter.filter('lowpass', freq=1.0, corners=2, zerophase=True)\n",
    "trace_filter.plot()"
   ]
  },
  {
   "cell_type": "code",
   "execution_count": null,
   "metadata": {},
   "outputs": [],
   "source": []
  },
  {
   "cell_type": "code",
   "execution_count": null,
   "metadata": {},
   "outputs": [],
   "source": []
  }
 ],
 "metadata": {
  "kernelspec": {
   "display_name": "Python 3",
   "language": "python",
   "name": "python3"
  },
  "language_info": {
   "codemirror_mode": {
    "name": "ipython",
    "version": 3
   },
   "file_extension": ".py",
   "mimetype": "text/x-python",
   "name": "python",
   "nbconvert_exporter": "python",
   "pygments_lexer": "ipython3",
   "version": "3.6.6"
  }
 },
 "nbformat": 4,
 "nbformat_minor": 2
}
