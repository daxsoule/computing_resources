{
 "cells": [
  {
   "cell_type": "markdown",
   "metadata": {},
   "source": [
    "# Unix\n",
    "https://en.wikipedia.org/wiki/Unix\n",
    "\n",
    "https://people.ischool.berkeley.edu/~kevin/unix-tutorial/toc.html\n",
    "\n",
    "https://linuxjourney.com/lesson/the-shell\n",
    "\n",
    "https://linuxjourney.com/lesson/stdout-standard-out-redirect\n",
    "\n",
    "https://linuxjourney.com/lesson/regular-expressions-regex\n",
    "\n",
    "http://www.atmos.albany.edu/daes/atmclasses/atm350/vi_cheat_sheet.pdf\n",
    "\n",
    "http://cheatsheetworld.com/programming/unix-linux-cheat-sheet/\n",
    "\n",
    "https://www.bowdoin.edu/~sbarker/unix/"
   ]
  },
  {
   "cell_type": "markdown",
   "metadata": {},
   "source": [
    "# Scientific Computing\n",
    "### &emsp;&emsp; - Ryan Abernathy (Lamont)and Matthew Rocklin (Anaconda) \n",
    "https://youtu.be/mDrjGxaXQT4\n",
    "\n",
    "# Python\n",
    "## Jupyter\n",
    "https://jupyter.org\n",
    "https://zero-to-jupyterhub.readthedocs.io/en/latest/\n",
    "\n",
    "## Google Colab\n",
    "https://colab.research.google.com/notebooks/welcome.ipynb\n",
    "\n",
    "## Binders\n",
    "https://mybinder.readthedocs.io/en/latest/faq.html\n",
    "https://mybinder.org\n",
    "\n",
    "## Visualization Tools\n",
    "### pyvis\n",
    "https://pydata.org/\n",
    "https://hvplot.pyviz.org/user_guide/Introduction.html\n",
    "https://hvplot.pyviz.org/user_guide/Plotting.html\n",
    "https://hvplot.pyviz.org/user_guide/Subplots.html"
   ]
  },
  {
   "cell_type": "markdown",
   "metadata": {},
   "source": [
    "# GitHub\n",
    "https://github.com/daxsoule\n",
    "\n",
    "https://github.com/jakevdp\n",
    "\n",
    "https://github.com/rabernat\n",
    "\n",
    "https://github.com/jsignell\n",
    "\n",
    "https://github.com/tjcrone\n",
    "\n",
    "https://github.com/robfatland"
   ]
  },
  {
   "cell_type": "markdown",
   "metadata": {},
   "source": [
    "# OOI Sites\n",
    "https://app.interactiveoceans.washington.edu"
   ]
  },
  {
   "cell_type": "markdown",
   "metadata": {},
   "source": [
    "# Funding Opportunity\n",
    "https://azure.microsoft.com/en-us/\n",
    "\n",
    "https://www.microsoft.com/en-us/ai/ai-for-earth?activetab=pivot1%3aprimaryr6"
   ]
  }
 ],
 "metadata": {
  "kernelspec": {
   "display_name": "Python 3",
   "language": "python",
   "name": "python3"
  },
  "language_info": {
   "codemirror_mode": {
    "name": "ipython",
    "version": 3
   },
   "file_extension": ".py",
   "mimetype": "text/x-python",
   "name": "python",
   "nbconvert_exporter": "python",
   "pygments_lexer": "ipython3",
   "version": "3.6.6"
  }
 },
 "nbformat": 4,
 "nbformat_minor": 2
}
